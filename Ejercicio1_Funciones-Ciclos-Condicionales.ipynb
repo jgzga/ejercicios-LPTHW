{
 "cells": [
  {
   "cell_type": "markdown",
   "metadata": {},
   "source": [
    "# Tarea: Funciones, Ciclos y Condicionales"
   ]
  },
  {
   "cell_type": "markdown",
   "metadata": {},
   "source": [
    "Resuelve los siguientes ejercicios en tu notebook. Lo más importante es que tu código produzca el resultado deseado, lo siguiente en importancia es ver si usaste lo que aprendimos en clase y finalmente si lo resolviste de una manera elegante. Funcionalidad es lo principal que buscamos. Cualquier duda me escriben."
   ]
  },
  {
   "cell_type": "markdown",
   "metadata": {},
   "source": [
    "## Ejercicios de Funciones"
   ]
  },
  {
   "cell_type": "markdown",
   "metadata": {},
   "source": [
    "### Ejercicio 1"
   ]
  },
  {
   "cell_type": "markdown",
   "metadata": {},
   "source": [
    "Crea una función de python y prueba que funcione que acepte un string y te calcule el número de letras mayúsculas y minúsculas contenidos en ese string. Al final la función debe regresar el número de letras en una lista e imprimir un mensaje con los resultados del cálculo."
   ]
  },
  {
   "cell_type": "code",
   "execution_count": 45,
   "metadata": {
    "collapsed": true
   },
   "outputs": [],
   "source": [
    "#Definir la función\n",
    "def letras(palabra):\n",
    "    print(sum(1 for i in palabra if i.isupper()))\n",
    "    print(sum(1 for i in palabra if i.islower()))\n"
   ]
  },
  {
   "cell_type": "code",
   "execution_count": 46,
   "metadata": {
    "collapsed": true
   },
   "outputs": [],
   "source": [
    "#Crear un string\n",
    "palabra = \"ProBANDO La funcion\""
   ]
  },
  {
   "cell_type": "code",
   "execution_count": 47,
   "metadata": {},
   "outputs": [
    {
     "name": "stdout",
     "output_type": "stream",
     "text": [
      "7\n",
      "10\n"
     ]
    }
   ],
   "source": [
    "#Llamar la función utilizando el string\n",
    "letras(palabra)"
   ]
  },
  {
   "cell_type": "markdown",
   "metadata": {},
   "source": [
    "### Ejercicio 2"
   ]
  },
  {
   "cell_type": "markdown",
   "metadata": {},
   "source": [
    "Crea una función de python que tome una lista de números enteros (e.g., Sample_List : [1, 2, 3, 4, 5, 6, 7, 8, 9]) y regrese una lista de aquellos números que son pares (e.g., Expexted_Result: [2, 4, 6, 8]). "
   ]
  },
  {
   "cell_type": "code",
   "execution_count": 49,
   "metadata": {
    "collapsed": true
   },
   "outputs": [],
   "source": [
    "#Definir la función\n",
    "\n",
    "def pares(lista):\n",
    "    nueva_lista = []\n",
    "    for numero in lista:\n",
    "        if numero % 2 == 0:\n",
    "            nueva_lista.append(numero)\n",
    "    print(nueva_lista)"
   ]
  },
  {
   "cell_type": "code",
   "execution_count": 50,
   "metadata": {
    "collapsed": true
   },
   "outputs": [],
   "source": [
    "#Crear una lista\n",
    "lista = [1,2,3,4]"
   ]
  },
  {
   "cell_type": "code",
   "execution_count": 51,
   "metadata": {},
   "outputs": [
    {
     "name": "stdout",
     "output_type": "stream",
     "text": [
      "[2, 4]\n"
     ]
    }
   ],
   "source": [
    "#Llamar la función utilizando la lista\n",
    "pares(lista)"
   ]
  },
  {
   "cell_type": "markdown",
   "metadata": {},
   "source": [
    "## Código Condicional (If, elif, else)"
   ]
  },
  {
   "cell_type": "markdown",
   "metadata": {},
   "source": [
    "### Ejercicio 3"
   ]
  },
  {
   "cell_type": "markdown",
   "metadata": {},
   "source": [
    "Escribe un programa de python utilizando código condicional que tome como parámetro un string indicado el mes y me devuelva un string indicando el número de días que tiene ese mes. Tomemos que Febrero tiene 28 días.\n",
    "\n",
    "Resultado_Esperado: \n",
    "\n",
    "Escribe el nombre del mes: Febrero                                       \n",
    "Número de días: 28 days "
   ]
  },
  {
   "cell_type": "code",
   "execution_count": 63,
   "metadata": {
    "collapsed": true
   },
   "outputs": [],
   "source": [
    "def dias_mes():\n",
    "    month_name = str(input(\"Input the name of Month: \")).lower()\n",
    "    print\n",
    "    if month_name == \"febrero\":\n",
    "        print(\"No. of days: 28/29 days\")\n",
    "    elif month_name in (\"abril\", \"junio\", \"septiembre\", \"noviembre\"):\n",
    "        print(\"No. of days: 30 days\")\n",
    "    elif month_name in (\"enero\", \"marzo\", \"mayo\", \"julio\", \"agosto\", \"octubre\", \"diciembre\"):\n",
    "        print(\"No. of days: 31 day\")\n",
    "    else:\n",
    "        print(\"Wrong month name\") "
   ]
  },
  {
   "cell_type": "code",
   "execution_count": 64,
   "metadata": {},
   "outputs": [
    {
     "name": "stdout",
     "output_type": "stream",
     "text": [
      "Input the name of Month: enero\n",
      "No. of days: 31 day\n"
     ]
    }
   ],
   "source": [
    "dias_mes()"
   ]
  },
  {
   "cell_type": "markdown",
   "metadata": {},
   "source": [
    "### Ejercicio 4"
   ]
  },
  {
   "cell_type": "markdown",
   "metadata": {},
   "source": [
    "Escribe un programa de python utilizando código condicional que reciba tres valores como parámetros y te devuelva el valor que representa la mediana de esos valores.\n",
    "\n",
    "Resultado Esperado: \n",
    "\n",
    "Input first number: 19                                                  \n",
    "Input second number: 25                                               \n",
    "Input third number: 32                                                 \n",
    "The median is 25  "
   ]
  },
  {
   "cell_type": "code",
   "execution_count": 44,
   "metadata": {},
   "outputs": [
    {
     "name": "stdout",
     "output_type": "stream",
     "text": [
      "Indica el total de números que deseas ingresar4\n",
      "Ingresa tu 1° número2\n",
      "Ingresa tu 2° número3\n",
      "Ingresa tu 3° número4\n",
      "Ingresa tu 4° número5\n",
      "3.5\n"
     ]
    }
   ],
   "source": [
    "def nlogn_median(arr):\n",
    "        \n",
    "    arr = sorted(arr)\n",
    "    if len(arr) % 2 == 1:\n",
    "        print (l[int(len(arr) / 2)])\n",
    "        return l[int(len(arr) / 2)]\n",
    "    else:\n",
    "        print (0.5 * (arr[int(len(arr) / 2 - 1)] + arr[int(len(arr) / 2)]))\n",
    "        return 0.5 * (arr[int(len(arr) / 2 - 1)] + arr[int(len(arr) / 2)])\n",
    "    \n",
    "def main(): \n",
    "    n = int(input(\"Indica el total de números que deseas ingresar\"))\n",
    "    arr = []\n",
    "    for i in range(n):\n",
    "        i += 1\n",
    "        x = int(input(\"Ingresa tu %d° número\" % i))\n",
    "        arr.append(x)\n",
    "    nlogn_median(arr)\n",
    "    \n",
    "main()"
   ]
  },
  {
   "cell_type": "markdown",
   "metadata": {},
   "source": [
    "## Ciclos (For loops, While loops)"
   ]
  },
  {
   "cell_type": "markdown",
   "metadata": {},
   "source": [
    "### Ejercicio 5: For loops"
   ]
  },
  {
   "cell_type": "markdown",
   "metadata": {},
   "source": [
    "Escribe un programa de Python utilizando un ciclo For que te de por resultado los primeros 40 números de la serie de Fibonnaci. Nota: la serie de fibonacci es 0, 1, 1, 2, 3, 5, 8, 13, 21, .... \n",
    "\n",
    "Resultado Esperado:\n",
    "1 1 2 3 5 8 13 21 34 ... "
   ]
  },
  {
   "cell_type": "code",
   "execution_count": 71,
   "metadata": {
    "collapsed": true
   },
   "outputs": [],
   "source": [
    "def fibonacci(n):\n",
    "    x, y = 0,1\n",
    "    for i in range(n):\n",
    "        print(x, end=', ')\n",
    "        x, y = y, x+y\n",
    "    print()"
   ]
  },
  {
   "cell_type": "code",
   "execution_count": 72,
   "metadata": {},
   "outputs": [
    {
     "name": "stdout",
     "output_type": "stream",
     "text": [
      "0, 1, 1, 2, 3, 5, 8, 13, 21, 34, 55, 89, 144, 233, 377, 610, 987, 1597, 2584, 4181, 6765, 10946, 17711, 28657, 46368, 75025, 121393, 196418, 317811, 514229, 832040, 1346269, 2178309, 3524578, 5702887, 9227465, 14930352, 24157817, 39088169, 63245986, 102334155, 165580141, 267914296, 433494437, 701408733, 1134903170, 1836311903, 2971215073, 4807526976, 7778742049, 12586269025, 20365011074, 32951280099, 53316291173, 86267571272, 139583862445, 225851433717, 365435296162, 591286729879, 956722026041, 1548008755920, 2504730781961, 4052739537881, 6557470319842, 10610209857723, 17167680177565, 27777890035288, 44945570212853, 72723460248141, 117669030460994, 190392490709135, 308061521170129, 498454011879264, 806515533049393, 1304969544928657, 2111485077978050, 3416454622906707, 5527939700884757, 8944394323791464, 14472334024676221, 23416728348467685, 37889062373143906, 61305790721611591, 99194853094755497, 160500643816367088, 259695496911122585, 420196140727489673, 679891637638612258, 1100087778366101931, 1779979416004714189, 2880067194370816120, 4660046610375530309, 7540113804746346429, 12200160415121876738, 19740274219868223167, 31940434634990099905, 51680708854858323072, 83621143489848422977, 135301852344706746049, 218922995834555169026, \n"
     ]
    }
   ],
   "source": [
    "fibonacci(100)"
   ]
  },
  {
   "cell_type": "markdown",
   "metadata": {},
   "source": [
    "### Ejercicio 6: While loops"
   ]
  },
  {
   "cell_type": "markdown",
   "metadata": {},
   "source": [
    "Escribe un programa de Python utilizando un ciclo While que acepte input del usuario para adivinar un número aleatorio entre 1 y 9. El juego debe terminar cuando la persona adivine el número y debe imprimirse un mensaje felicitando al jugador e indicando número de intentos que le tomó adivinar."
   ]
  },
  {
   "cell_type": "code",
   "execution_count": 3,
   "metadata": {},
   "outputs": [
    {
     "name": "stdout",
     "output_type": "stream",
     "text": [
      "Por favor ingresa un número entre 1 y 9.\n",
      "1\n",
      "Vuelve a ingresar otro número, por favor\n",
      "2\n",
      "Vuelve a ingresar otro número, por favor\n",
      "3\n",
      "Vuelve a ingresar otro número, por favor\n",
      "4\n",
      "Vuelve a ingresar otro número, por favor\n",
      "5\n",
      "Bien hecho, adivinaste en el intento 5\n"
     ]
    },
    {
     "ename": "TypeError",
     "evalue": "Can't convert 'int' object to str implicitly",
     "output_type": "error",
     "traceback": [
      "\u001b[0;31m---------------------------------------------------------------------------\u001b[0m",
      "\u001b[0;31mTypeError\u001b[0m                                 Traceback (most recent call last)",
      "\u001b[0;32m<ipython-input-3-7859fd1adf83>\u001b[0m in \u001b[0;36m<module>\u001b[0;34m()\u001b[0m\n\u001b[1;32m     19\u001b[0m     \u001b[0;32mif\u001b[0m \u001b[0mguess\u001b[0m \u001b[0;34m!=\u001b[0m \u001b[0mnumber\u001b[0m\u001b[0;34m:\u001b[0m\u001b[0;34m\u001b[0m\u001b[0m\n\u001b[1;32m     20\u001b[0m         \u001b[0mprint\u001b[0m\u001b[0;34m(\u001b[0m\u001b[0;34m'Vuelve a ingresar otro número, por favor'\u001b[0m\u001b[0;34m)\u001b[0m\u001b[0;34m\u001b[0m\u001b[0m\n\u001b[0;32m---> 21\u001b[0;31m     \u001b[0mintentos\u001b[0m \u001b[0;34m+=\u001b[0m \u001b[0;36m1\u001b[0m\u001b[0;34m\u001b[0m\u001b[0m\n\u001b[0m",
      "\u001b[0;31mTypeError\u001b[0m: Can't convert 'int' object to str implicitly"
     ]
    }
   ],
   "source": [
    "import random\n",
    "\n",
    "intentos = 0\n",
    "\n",
    "number = random.randint(1, 9)\n",
    "\n",
    "print('Por favor ingresa un número entre 1 y 9.')\n",
    "\n",
    "respuesta_correcta = True\n",
    "while respuesta_correcta:\n",
    "\n",
    "    guess = int(input())\n",
    "\n",
    "    if guess == number:\n",
    "        intentos = str(intentos + 1)\n",
    "        print(\"Bien hecho, adivinaste en el intento \" + intentos)\n",
    "        respuesta_correcta = False\n",
    "\n",
    "    if guess != number:        \n",
    "        print('Vuelve a ingresar otro número, por favor')\n",
    "    intentos += 1    "
   ]
  },
  {
   "cell_type": "code",
   "execution_count": null,
   "metadata": {
    "collapsed": true
   },
   "outputs": [],
   "source": []
  },
  {
   "cell_type": "markdown",
   "metadata": {},
   "source": [
    "## Crédito Extra"
   ]
  },
  {
   "cell_type": "markdown",
   "metadata": {},
   "source": [
    "### Ejercicio 7"
   ]
  },
  {
   "cell_type": "markdown",
   "metadata": {},
   "source": [
    "Escribe una función de Python que genere números primos y que acepte un parámetro donde el usuario pueda determinar cuántos números primos quiere que le arroje la función."
   ]
  },
  {
   "cell_type": "code",
   "execution_count": 16,
   "metadata": {},
   "outputs": [
    {
     "name": "stdout",
     "output_type": "stream",
     "text": [
      "¿Cuántos primos deseas obtener?: 10\n",
      "2\n",
      "3\n",
      "5\n",
      "7\n",
      "11\n",
      "13\n",
      "17\n",
      "19\n",
      "23\n",
      "29\n"
     ]
    }
   ],
   "source": [
    "def encontrar_nprimos(numero_primos):  \n",
    "    primos = [2]\n",
    "    i = 3\n",
    "        \n",
    "    while len(primos) < numero_primos:\n",
    "        for p in primos:\n",
    "            if (i % p == 0) or (p*p > i):\n",
    "                break\n",
    "        if i%p != 0:\n",
    "            primos.append(i)\n",
    "            #print (i)\n",
    "        i = i + 2 \n",
    "    for primo in primos:\n",
    "        print(primo)\n",
    "    #print(primos)\n",
    "    return primos   \n",
    "        \n",
    "def main():\n",
    "    a = int(input(\"¿Cuántos primos deseas obtener?: \"))\n",
    "    encontrar_nprimos(a)  \n",
    "    \n",
    "main()"
   ]
  }
 ],
 "metadata": {
  "kernelspec": {
   "display_name": "Python 3",
   "language": "python",
   "name": "python3"
  },
  "language_info": {
   "codemirror_mode": {
    "name": "ipython",
    "version": 3
   },
   "file_extension": ".py",
   "mimetype": "text/x-python",
   "name": "python",
   "nbconvert_exporter": "python",
   "pygments_lexer": "ipython3",
   "version": "3.5.2"
  }
 },
 "nbformat": 4,
 "nbformat_minor": 2
}
